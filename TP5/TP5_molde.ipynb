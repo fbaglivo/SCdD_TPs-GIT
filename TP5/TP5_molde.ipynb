{
 "cells": [
  {
   "cell_type": "markdown",
   "metadata": {},
   "source": [
    "# Seminario de Ciencia de Datos - Trabajo práctico 5\n",
    "### de la Fuente, Alethia- Hesse, Eugenia -  Baglivo, Fabricio\n",
    "\n",
    "#### Configuraciones generales"
   ]
  },
  {
   "cell_type": "code",
   "execution_count": 1,
   "metadata": {
    "collapsed": false
   },
   "outputs": [
    {
     "ename": "ImportError",
     "evalue": "No module named 'pymc3'",
     "output_type": "error",
     "traceback": [
      "\u001b[0;31m---------------------------------------------------------------------------\u001b[0m",
      "\u001b[0;31mImportError\u001b[0m                               Traceback (most recent call last)",
      "\u001b[0;32m<ipython-input-1-b948abf5a589>\u001b[0m in \u001b[0;36m<module>\u001b[0;34m()\u001b[0m\n\u001b[0;32m----> 1\u001b[0;31m \u001b[0;32mimport\u001b[0m \u001b[0mpymc3\u001b[0m \u001b[0;32mas\u001b[0m \u001b[0mpm\u001b[0m\u001b[0;34m\u001b[0m\u001b[0m\n\u001b[0m\u001b[1;32m      2\u001b[0m \u001b[0;32mfrom\u001b[0m \u001b[0mscipy\u001b[0m\u001b[0;34m.\u001b[0m\u001b[0mio\u001b[0m \u001b[0;32mimport\u001b[0m \u001b[0mloadmat\u001b[0m\u001b[0;34m\u001b[0m\u001b[0m\n\u001b[1;32m      3\u001b[0m \u001b[0;32mfrom\u001b[0m \u001b[0mscipy\u001b[0m\u001b[0;34m.\u001b[0m\u001b[0msignal\u001b[0m \u001b[0;32mimport\u001b[0m \u001b[0mwelch\u001b[0m\u001b[0;34m\u001b[0m\u001b[0m\n\u001b[1;32m      4\u001b[0m \u001b[0;32mimport\u001b[0m \u001b[0mnumpy\u001b[0m \u001b[0;32mas\u001b[0m \u001b[0mnp\u001b[0m\u001b[0;34m\u001b[0m\u001b[0m\n\u001b[1;32m      5\u001b[0m \u001b[0;32mimport\u001b[0m \u001b[0mmatplotlib\u001b[0m\u001b[0;34m.\u001b[0m\u001b[0mpyplot\u001b[0m \u001b[0;32mas\u001b[0m \u001b[0mplt\u001b[0m\u001b[0;34m\u001b[0m\u001b[0m\n",
      "\u001b[0;31mImportError\u001b[0m: No module named 'pymc3'"
     ]
    }
   ],
   "source": [
    "import pymc3 as pm\n",
    "from scipy.io import loadmat\n",
    "from scipy.signal import welch\n",
    "import numpy as np\n",
    "import matplotlib.pyplot as plt\n",
    "from matplotlib.colors import LogNorm \n",
    "import pandas as pd\n",
    "import seaborn as sns\n",
    "from scipy import stats\n",
    "import os\n",
    "from scipy import ndimage\n",
    "\n"
   ]
  },
  {
   "cell_type": "code",
   "execution_count": null,
   "metadata": {
    "collapsed": true
   },
   "outputs": [],
   "source": [
    "http://people.duke.edu/~ccc14/sta-663-2016/16C_PyMC3.html"
   ]
  },
  {
   "cell_type": "markdown",
   "metadata": {},
   "source": [
    "# Considere el modelo Beta-Binomial para la moneda.\n",
    "## 1. Implementacion: \n",
    " * Implemente el modelo en pymc3 para los priors Beta(1,1) y Beta(100,100), y grafique las posteriors resultantes de observar 6 caras de 6 tiradas.\n"
   ]
  },
  {
   "cell_type": "code",
   "execution_count": null,
   "metadata": {
    "collapsed": true
   },
   "outputs": [],
   "source": [
    "n = 6\n",
    "heads = 6\n",
    "\n",
    "\n",
    "modelo_uniforme = pm.Model()\n",
    "modelo_cargado =  pm.Model()\n",
    "\n",
    "niter = 200\n",
    "with modelo_uniforme:\n",
    "    # Priors for unknown model parameters\n",
    "    p = pm.Beta('p', alpha=1, beta=1)\n",
    "    \n",
    "    # Modelo\n",
    "    y = pm.Binomial('y', n=n, p=p, observed=heads)\n",
    "    \n",
    "    # Muestra a posteriori\n",
    "    trace_uniforme = pm.sample(niter)\n",
    "    pm.traceplot(trace_uniforme, varnames=['p'])\n",
    "    \n",
    "with modelo_cargado:\n",
    "    # Priors for unknown model parameters\n",
    "    p = pm.Beta('p', alpha=100, beta=100)\n",
    "    \n",
    "    # Modelo\n",
    "    y = pm.Binomial('y', n=n, p=p, observed=heads)\n",
    "    \n",
    "    # Muestra a posteriori\n",
    "    trace_cargado = pm.sample(niter)\n",
    "    pm.traceplot(trace_cargado, varnames=['p'])\n"
   ]
  },
  {
   "cell_type": "markdown",
   "metadata": {},
   "source": [
    "## 2. Resumenes\n",
    " * Calcule el MAP (m´aximo a posteriori) y las medias de ambas posteriors.\n"
   ]
  },
  {
   "cell_type": "code",
   "execution_count": null,
   "metadata": {
    "collapsed": true
   },
   "outputs": [],
   "source": [
    "with modelo_uniforme:\n",
    "    start = pm.find_MAP()\n",
    "    step = pm.Metropolis()\n",
    "    trace_uniforme = pm.sample(niter, step=step, start=start, njobs=4, random_seed=123)\n",
    "    \n",
    "with modelo_cargado:\n",
    "    start = pm.find_MAP()\n",
    "    step = pm.Metropolis()\n",
    "    trace_cargado = pm.sample(niter, step=step, start=start, njobs=4, random_seed=123)"
   ]
  },
  {
   "cell_type": "code",
   "execution_count": null,
   "metadata": {
    "collapsed": true
   },
   "outputs": [],
   "source": [
    "start"
   ]
  },
  {
   "cell_type": "markdown",
   "metadata": {},
   "source": [
    "## 3. Prediccion\n",
    " * Prediga, para ambos priors, el resultado de una nueva tirada de moneda.\n"
   ]
  },
  {
   "cell_type": "code",
   "execution_count": null,
   "metadata": {
    "collapsed": true
   },
   "outputs": [],
   "source": []
  },
  {
   "cell_type": "markdown",
   "metadata": {},
   "source": [
    "## 4. Otros datos\n",
    " * Repita los puntos anteriores para una situaci´on en la que se observan 20 caras de 20 tiradas, y otra en la que se observan 3 caras de 3 tiradas. ¿Qu´e puede concluir de los priors elegidos? ¿Y del modelo en general?\n"
   ]
  },
  {
   "cell_type": "code",
   "execution_count": null,
   "metadata": {
    "collapsed": true
   },
   "outputs": [],
   "source": [
    "n = 20\n",
    "heads = 20\n",
    "\n",
    "\n",
    "modelo_uniforme = pm.Model()\n",
    "modelo_cargado =  pm.Model()\n",
    "\n",
    "niter = 200\n",
    "with modelo_uniforme:\n",
    "    # Priors for unknown model parameters\n",
    "    p = pm.Beta('p', alpha=1, beta=1)\n",
    "    \n",
    "    # Modelo\n",
    "    y = pm.Binomial('y', n=n, p=p, observed=heads)\n",
    "    \n",
    "    # Muestra a posteriori\n",
    "    trace_uniforme = pm.sample(niter)\n",
    "    pm.traceplot(trace_uniforme, varnames=['p'])\n",
    "    \n",
    "with modelo_cargado:\n",
    "    # Priors for unknown model parameters\n",
    "    p = pm.Beta('p', alpha=100, beta=100)\n",
    "    \n",
    "    # Modelo\n",
    "    y = pm.Binomial('y', n=n, p=p, observed=heads)\n",
    "    \n",
    "    # Muestra a posteriori\n",
    "    trace_cargado = pm.sample(niter)\n",
    "    pm.traceplot(trace_cargado, varnames=['p'])"
   ]
  },
  {
   "cell_type": "code",
   "execution_count": null,
   "metadata": {
    "collapsed": true
   },
   "outputs": [],
   "source": [
    "n = 3\n",
    "heads = 3\n",
    "\n",
    "\n",
    "modelo_uniforme = pm.Model()\n",
    "modelo_cargado =  pm.Model()\n",
    "\n",
    "niter = 200\n",
    "with modelo_uniforme:\n",
    "    # Priors for unknown model parameters\n",
    "    p = pm.Beta('p', alpha=1, beta=1)\n",
    "    \n",
    "    # Modelo\n",
    "    y = pm.Binomial('y', n=n, p=p, observed=heads)\n",
    "    \n",
    "    # Muestra a posteriori\n",
    "    trace_uniforme = pm.sample(niter)\n",
    "    pm.traceplot(trace_uniforme, varnames=['p'])\n",
    "    \n",
    "with modelo_cargado:\n",
    "    # Priors for unknown model parameters\n",
    "    p = pm.Beta('p', alpha=100, beta=100)\n",
    "    \n",
    "    # Modelo\n",
    "    y = pm.Binomial('y', n=n, p=p, observed=heads)\n",
    "    \n",
    "    # Muestra a posteriori\n",
    "    trace_cargado = pm.sample(niter)\n",
    "    pm.traceplot(trace_cargado, varnames=['p'])"
   ]
  },
  {
   "cell_type": "markdown",
   "metadata": {},
   "source": [
    "## 5. Prior\n",
    " * Pensando en su propia experiencia, considere cu´antas caras consecutivas le har´ıan empezar a sospechar\n",
    "que la moneda est´a cargada. A partir de este n´umero y usando el modelo, diga cu´ales son los par´ametros\n",
    "de su prior Beta."
   ]
  },
  {
   "cell_type": "code",
   "execution_count": null,
   "metadata": {
    "collapsed": true
   },
   "outputs": [],
   "source": []
  }
 ],
 "metadata": {
  "kernelspec": {
   "display_name": "Python 3",
   "language": "python",
   "name": "python3"
  },
  "language_info": {
   "codemirror_mode": {
    "name": "ipython",
    "version": 3
   },
   "file_extension": ".py",
   "mimetype": "text/x-python",
   "name": "python",
   "nbconvert_exporter": "python",
   "pygments_lexer": "ipython3",
   "version": "3.4.3"
  }
 },
 "nbformat": 4,
 "nbformat_minor": 1
}
